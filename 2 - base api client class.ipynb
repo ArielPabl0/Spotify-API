{
 "cells": [
  {
   "cell_type": "code",
   "execution_count": 50,
   "metadata": {},
   "outputs": [
    {
     "name": "stdout",
     "output_type": "stream",
     "text": [
      "Requirement already satisfied: requests in c:\\users\\ariel\\appdata\\local\\programs\\python\\python310\\lib\\site-packages (2.26.0)"
     ]
    },
    {
     "name": "stderr",
     "output_type": "stream",
     "text": [
      "WARNING: You are using pip version 21.2.4; however, version 21.3.1 is available.\n",
      "You should consider upgrading via the 'C:\\Users\\ariel\\AppData\\Local\\Programs\\Python\\Python310\\python.exe -m pip install --upgrade pip' command.\n"
     ]
    },
    {
     "name": "stdout",
     "output_type": "stream",
     "text": [
      "\n",
      "Requirement already satisfied: certifi>=2017.4.17 in c:\\users\\ariel\\appdata\\local\\programs\\python\\python310\\lib\\site-packages (from requests) (2021.5.30)\n",
      "Requirement already satisfied: charset-normalizer~=2.0.0 in c:\\users\\ariel\\appdata\\local\\programs\\python\\python310\\lib\\site-packages (from requests) (2.0.6)\n",
      "Requirement already satisfied: urllib3<1.27,>=1.21.1 in c:\\users\\ariel\\appdata\\local\\programs\\python\\python310\\lib\\site-packages (from requests) (1.26.7)\n",
      "Requirement already satisfied: idna<4,>=2.5 in c:\\users\\ariel\\appdata\\local\\programs\\python\\python310\\lib\\site-packages (from requests) (3.2)\n"
     ]
    }
   ],
   "source": [
    "!pip install requests"
   ]
  },
  {
   "cell_type": "code",
   "execution_count": 40,
   "metadata": {},
   "outputs": [],
   "source": [
    "import base64\n",
    "import requests\n",
    "import datetime"
   ]
  },
  {
   "cell_type": "code",
   "execution_count": 42,
   "metadata": {},
   "outputs": [],
   "source": [
    "client_id = 'a7f54a243bf44f1f8930ce153a1821f7'\n",
    "client_secret = 'bb0c65ae068a4c2487c81fe326646cc1'"
   ]
  },
  {
   "cell_type": "code",
   "execution_count": 43,
   "metadata": {},
   "outputs": [],
   "source": [
    "class SpotifyAPI(object):\n",
    "    access_token = None\n",
    "    access_token_expires = datetime.datetime.now()\n",
    "    access_token_did_expire = True\n",
    "    client_id = None\n",
    "    client_secret = None\n",
    "    token_url = \"https://accounts.spotify.com/api/token\"\n",
    "    \n",
    "    def __init__(self, client_id, client_secret, *args, **kwargs):\n",
    "        super().__init__(*args, **kwargs)\n",
    "        self.client_id = client_id\n",
    "        self.client_secret = client_secret\n",
    "\n",
    "    def get_client_credentials(self):\n",
    "        \"\"\"\n",
    "        Returns a base64 encoded string\n",
    "        \"\"\"\n",
    "        client_id = self.client_id\n",
    "        client_secret = self.client_secret\n",
    "        if client_secret == None or client_id == None:\n",
    "            raise Exception(\"You must set client_id and client_secret\")\n",
    "        client_creds = f\"{client_id}:{client_secret}\"\n",
    "        client_creds_b64 = base64.b64encode(client_creds.encode())\n",
    "        return client_creds_b64.decode()\n",
    "    \n",
    "    def get_token_headers(self):\n",
    "        client_creds_b64 = self.get_client_credentials()\n",
    "        return {\n",
    "            \"Authorization\": f\"Basic {client_creds_b64}\"\n",
    "        }\n",
    "    \n",
    "    def get_token_data(self):\n",
    "        return {\n",
    "            \"grant_type\": \"client_credentials\"\n",
    "        } \n",
    "    \n",
    "    def perform_auth(self):\n",
    "        token_url = self.token_url\n",
    "        token_data = self.get_token_data()\n",
    "        token_headers = self.get_token_headers()\n",
    "        r = requests.post(token_url, data=token_data, headers=token_headers)\n",
    "        if r.status_code not in range(200, 299):\n",
    "            return False\n",
    "        data = r.json()\n",
    "        now = datetime.datetime.now()\n",
    "        access_token = data['access_token']\n",
    "        expires_in = data['expires_in'] # seconds\n",
    "        expires = now + datetime.timedelta(seconds=expires_in)\n",
    "        self.access_token = access_token\n",
    "        self.access_token_expires = expires\n",
    "        self.access_token_did_expire = expires < now\n",
    "        return True"
   ]
  },
  {
   "cell_type": "code",
   "execution_count": 44,
   "metadata": {},
   "outputs": [],
   "source": [
    "spotify = SpotifyAPI(client_id, client_secret)"
   ]
  },
  {
   "cell_type": "code",
   "execution_count": 45,
   "metadata": {},
   "outputs": [
    {
     "data": {
      "text/plain": [
       "True"
      ]
     },
     "execution_count": 45,
     "metadata": {},
     "output_type": "execute_result"
    }
   ],
   "source": [
    "spotify.perform_auth()"
   ]
  },
  {
   "cell_type": "code",
   "execution_count": 46,
   "metadata": {},
   "outputs": [
    {
     "data": {
      "text/plain": [
       "'BQBj65I77tLyO5Mwh5ebtB3uAoHcwDxa2mEQGqskrHG9voOtsH1WVL1vi2DHj845tzYhnFc0UCGhQZi4xWI'"
      ]
     },
     "execution_count": 46,
     "metadata": {},
     "output_type": "execute_result"
    }
   ],
   "source": [
    "access_token = spotify.access_token\n",
    "access_token"
   ]
  }
 ],
 "metadata": {
  "language_info": {
   "name": "python"
  },
  "orig_nbformat": 4
 },
 "nbformat": 4,
 "nbformat_minor": 2
}
