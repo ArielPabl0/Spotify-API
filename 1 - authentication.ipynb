{
 "cells": [
  {
   "cell_type": "code",
   "execution_count": 1,
   "metadata": {},
   "outputs": [
    {
     "name": "stdout",
     "output_type": "stream",
     "text": [
      "Requirement already satisfied: requests in c:\\users\\ariel\\appdata\\local\\programs\\python\\python310\\lib\\site-packages (2.26.0)\n",
      "Requirement already satisfied: urllib3<1.27,>=1.21.1 in c:\\users\\ariel\\appdata\\local\\programs\\python\\python310\\lib\\site-packages (from requests) (1.26.7)\n",
      "Requirement already satisfied: idna<4,>=2.5 in c:\\users\\ariel\\appdata\\local\\programs\\python\\python310\\lib\\site-packages (from requests) (3.2)\n",
      "Requirement already satisfied: certifi>=2017.4.17 in c:\\users\\ariel\\appdata\\local\\programs\\python\\python310\\lib\\site-packages (from requests) (2021.5.30)\n",
      "Requirement already satisfied: charset-normalizer~=2.0.0 in c:\\users\\ariel\\appdata\\local\\programs\\python\\python310\\lib\\site-packages (from requests) (2.0.6)\n"
     ]
    },
    {
     "name": "stderr",
     "output_type": "stream",
     "text": [
      "WARNING: You are using pip version 21.2.4; however, version 21.3.1 is available.\n",
      "You should consider upgrading via the 'C:\\Users\\ariel\\AppData\\Local\\Programs\\Python\\Python310\\python.exe -m pip install --upgrade pip' command.\n"
     ]
    }
   ],
   "source": [
    "# This requests package will let us send HTTP requests \n",
    "!pip install requests"
   ]
  },
  {
   "cell_type": "code",
   "execution_count": 2,
   "metadata": {},
   "outputs": [],
   "source": [
    "import base64\n",
    "import requests\n",
    "import datetime"
   ]
  },
  {
   "cell_type": "code",
   "execution_count": 3,
   "metadata": {},
   "outputs": [],
   "source": [
    "# Authenticating our client \n",
    "    # first we have to grab client ID and cleint secrert from the spotiofy developers website \n",
    "\n",
    "client_id = 'a7f54a243bf44f1f8930ce153a1821f7'\n",
    "client_secret = 'bb0c65ae068a4c2487c81fe326646cc1'\n",
    "\n",
    "# Putting in a client credentials variable for easy access\n",
    "client_credentials = f\"{client_id}:{client_secret}\" \n",
    "\n"
   ]
  },
  {
   "cell_type": "code",
   "execution_count": 4,
   "metadata": {},
   "outputs": [
    {
     "name": "stdout",
     "output_type": "stream",
     "text": [
      "b'YTdmNTRhMjQzYmY0NGYxZjg5MzBjZTE1M2ExODIxZjc6YmIwYzY1YWUwNjhhNGMyNDg3YzgxZmUzMjY2NDZjYzE='\n"
     ]
    }
   ],
   "source": [
    "## Encoding client creds to a base 64 string \n",
    "client_creds_base64 = base64.b64encode(client_credentials.encode())\n",
    "print(client_creds_base64)\n"
   ]
  },
  {
   "cell_type": "code",
   "execution_count": 5,
   "metadata": {},
   "outputs": [
    {
     "name": "stdout",
     "output_type": "stream",
     "text": [
      "{'access_token': 'BQD2ivql0SmS87AfvI7G2kni6rS_VIgVzJZ_DQ3jKOVSL25U0X21cvnafcFtcXFFOsI81_BsQ_17TSPSyh8', 'token_type': 'Bearer', 'expires_in': 3600}\n"
     ]
    }
   ],
   "source": [
    "# An HTTP request needs HEADERS, BODY AND A REQUEST LINE\n",
    "## first we'll set the headers and body according to the documentaion on the spotify api website\n",
    "\n",
    "# Setting body \n",
    "token_data = {\n",
    "    \"grant_type\": \"client_credentials\"\n",
    "}\n",
    "\n",
    "# Setting headers -- client string needs to be a base64 encode string\n",
    "## encoded client creds in cell above \n",
    "token_headers = {\n",
    "    \"Authorization\": f\"Basic {client_creds_base64.decode()}\"  \n",
    "}\n",
    "\n",
    "# Creating request line \n",
    "token_url = \"https://accounts.spotify.com/api/token\"\n",
    "method = \"POST\"\n",
    "\n",
    "request_line = requests.post(token_url, data = token_data, headers = token_headers)\n",
    "print(request_line.json())\n"
   ]
  },
  {
   "cell_type": "code",
   "execution_count": 6,
   "metadata": {},
   "outputs": [
    {
     "data": {
      "text/plain": [
       "True"
      ]
     },
     "execution_count": 6,
     "metadata": {},
     "output_type": "execute_result"
    }
   ],
   "source": [
    "# Make sure the request line is valid\n",
    " \n",
    "# This will return a boolean value indicating if the status code falls between 200-299\n",
    "valid_request_line = request_line.status_code in range(200,299)\n",
    "valid_request_line"
   ]
  },
  {
   "cell_type": "code",
   "execution_count": 7,
   "metadata": {},
   "outputs": [
    {
     "name": "stdout",
     "output_type": "stream",
     "text": [
      "2021-10-30 19:17:50.637037\n",
      "3600\n",
      "2021-10-30 20:17:50.637037\n",
      "False\n"
     ]
    }
   ],
   "source": [
    "# Create a function to see if the token has expired or not\n",
    "if valid_request_line:\n",
    "    now = datetime.datetime.now()\n",
    "    print(now)\n",
    "    request_line_info = request_line.json()\n",
    "\n",
    "    access_token = request_line_info['access_token']\n",
    "    token_expires = request_line_info['expires_in']\n",
    "    print(token_expires)\n",
    "\n",
    "    expires = now + datetime.timedelta(seconds = token_expires)\n",
    "    print(expires)\n",
    "    did_expire = expires < now \n",
    "    print(did_expire)\n"
   ]
  }
 ],
 "metadata": {
  "interpreter": {
   "hash": "5dbfd558697415aff553bdce37ffa10cef4b45fe6bb8aec2bb0cb704b97b641d"
  },
  "kernelspec": {
   "display_name": "Python 3.10.0 64-bit",
   "name": "python3"
  },
  "language_info": {
   "codemirror_mode": {
    "name": "ipython",
    "version": 3
   },
   "file_extension": ".py",
   "mimetype": "text/x-python",
   "name": "python",
   "nbconvert_exporter": "python",
   "pygments_lexer": "ipython3",
   "version": "3.10.0"
  },
  "orig_nbformat": 4
 },
 "nbformat": 4,
 "nbformat_minor": 2
}
